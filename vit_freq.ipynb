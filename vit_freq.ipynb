{
 "cells": [
  {
   "cell_type": "markdown",
   "id": "283dc1f6-e4e4-478f-90a3-83a8f0e3c577",
   "metadata": {},
   "source": [
    "# Этот скрипт обнуляет все показы на частоте 6+ и переносит их на частоты 2 и 3 в соотношении 75 на 25"
   ]
  },
  {
   "cell_type": "code",
   "execution_count": 23,
   "id": "e8bddd8a-8307-448d-a52c-5bbe5226fba4",
   "metadata": {},
   "outputs": [
    {
     "name": "stdout",
     "output_type": "stream",
     "text": [
      "Доступные Site Name:\n",
      "1. Mail.ru\n",
      "2. AdMile RU\n",
      "3. Ozon RU\n",
      "4. Mobidriven\n",
      "5. Ekran.ru\n",
      "6. MyTarget RU\n",
      "7. Adspector RU\n",
      "8. Innovation Lab RU\n",
      "9. Digital Alliance RU\n",
      "10. Trading Desk RU\n",
      "11. Digital Max RU\n",
      "12. MediaDesk RU\n",
      "13. Mediatoday RU\n",
      "14. GoTech RU\n"
     ]
    },
    {
     "name": "stdin",
     "output_type": "stream",
     "text": [
      "Введите номера Site Name, с которыми будем работать (через запятую):  10, 11\n"
     ]
    }
   ],
   "source": [
    "import pandas as pd\n",
    "import numpy as np\n",
    "\n",
    "# 1. Открытие и чтение CSV файла\n",
    "df = pd.read_csv('old_frequency_by_placements_1000248234_2025-04-01_2025-06-01_ver_7d02da9e24f7.csv')\n",
    "# Приведение Frequency к числовому типу\n",
    "df['Frequency'] = df['Frequency'].replace('100+', 100)\n",
    "df['Frequency'] = df['Frequency'].astype(int) \n",
    "\n",
    "# 2. Вывод списка Site Name и выбор\n",
    "unique_sites = df['Site Name'].unique()\n",
    "print(\"Доступные Site Name:\")\n",
    "for i, site in enumerate(unique_sites):\n",
    "    print(f\"{i + 1}. {site}\")\n",
    "\n",
    "selected_indices = input(\"Введите номера Site Name, с которыми будем работать (через запятую): \")\n",
    "selected_indices = [int(i.strip()) - 1 for i in selected_indices.split(',')]\n",
    "selected_sites = [unique_sites[i] for i in selected_indices]\n",
    "\n",
    "# 3. Перераспределение показов\n",
    "df_copy = df.copy()\n",
    "\n",
    "for site in selected_sites:\n",
    "    site_df = df_copy[df_copy['Site Name'] == site]\n",
    "    \n",
    "    for placement in site_df['Placement Name'].unique():\n",
    "        placement_mask = (df_copy['Site Name'] == site) & (df_copy['Placement Name'] == placement)\n",
    "\n",
    "        freq6plus_mask = placement_mask & (df_copy['Frequency'] >= 6)\n",
    "        impressions_to_move = df_copy.loc[freq6plus_mask, 'Impressions'].sum()\n",
    "\n",
    "        if impressions_to_move > 0:\n",
    "            # Обнуляем показы на частоте 6+\n",
    "            df_copy.loc[freq6plus_mask, 'Impressions'] = 0\n",
    "\n",
    "            # Распределяем показы\n",
    "            freq2_mask = placement_mask & (df_copy['Frequency'] == 2)\n",
    "            freq3_mask = placement_mask & (df_copy['Frequency'] == 3)\n",
    "\n",
    "            # Сколько надо добавить на частоту 2 и 3\n",
    "            freq2_add = round(impressions_to_move * 0.75)\n",
    "            freq3_add = impressions_to_move - freq2_add  # Остаток идет на частоту 3\n",
    "\n",
    "            # Добавляем к существующим показам\n",
    "            if df_copy.loc[freq2_mask].shape[0] > 0:\n",
    "                df_copy.loc[freq2_mask, 'Impressions'] += freq2_add\n",
    "            else:\n",
    "                # Если строки с частотой 2 нет, создаем новую\n",
    "                new_row = df_copy[placement_mask].iloc[0].copy()\n",
    "                new_row['Frequency'] = 2\n",
    "                new_row['Impressions'] = freq2_add\n",
    "                df_copy = pd.concat([df_copy, pd.DataFrame([new_row])], ignore_index=True)\n",
    "\n",
    "            if df_copy.loc[freq3_mask].shape[0] > 0:\n",
    "                df_copy.loc[freq3_mask, 'Impressions'] += freq3_add\n",
    "            else:\n",
    "                # Если строки с частотой 3 нет, создаем новую\n",
    "                new_row = df_copy[placement_mask].iloc[0].copy()\n",
    "                new_row['Frequency'] = 3\n",
    "                new_row['Impressions'] = freq3_add\n",
    "                df_copy = pd.concat([df_copy, pd.DataFrame([new_row])], ignore_index=True)\n",
    "\n",
    "# 4. Сохраняем файл\n",
    "df_copy.to_csv('new_freq.csv', index=False)"
   ]
  },
  {
   "cell_type": "markdown",
   "id": "4a64ad33-81d6-4bee-984f-9ab128180009",
   "metadata": {},
   "source": [
    "# Этот скрипт сравнивает выгрузки за прошлую неделю и текующую и проверяет, есть ли в выгрузке за текущую неделю значения меньше, чем за прошлую"
   ]
  },
  {
   "cell_type": "code",
   "execution_count": 39,
   "id": "6c5942e4-900d-431c-b066-77aff9bf0f03",
   "metadata": {},
   "outputs": [
    {
     "name": "stdout",
     "output_type": "stream",
     "text": [
      "\n",
      "⚠️ Найдены строки, где в новой неделе меньше показов, чем в прошлой:\n",
      "\n",
      "МЕНЬШЕ ПОКАЗОВ: Trading Desk RU | 500340_trading_desk_slot_1_240x400 | Frequency 5 | Предыдущие показы: 41 | Новые показы: 40\n",
      "МЕНЬШЕ ПОКАЗОВ: Trading Desk RU | 500340_trading_desk_slot_1_970x250 | Frequency 1 | Предыдущие показы: 3 | Новые показы: 2\n",
      "МЕНЬШЕ ПОКАЗОВ: Trading Desk RU | 500340_trading_desk_slot_1_320x480_fullscreen | Frequency 2 | Предыдущие показы: 256 | Новые показы: 255\n",
      "МЕНЬШЕ ПОКАЗОВ: Trading Desk RU | 500340_trading_desk_slot_1_480x320_fullscreen | Frequency 3 | Предыдущие показы: 1 | Новые показы: 0\n",
      "МЕНЬШЕ ПОКАЗОВ: Trading Desk RU | 500340_trading_desk_slot_1_768x1024 | Frequency 1 | Предыдущие показы: 3 | Новые показы: 2\n",
      "МЕНЬШЕ ПОКАЗОВ: Trading Desk RU | 500341_trading_desk_slot_2_240x400 | Frequency 2 | Предыдущие показы: 149 | Новые показы: 148\n",
      "МЕНЬШЕ ПОКАЗОВ: Trading Desk RU | 500341_trading_desk_slot_2_1024x768 | Frequency 1 | Предыдущие показы: 2 | Новые показы: 1\n"
     ]
    }
   ],
   "source": [
    "import pandas as pd\n",
    "\n",
    "# Читаем файлы с учетом правильного разделителя\n",
    "df_prev = pd.read_csv('frequency_by_placements_1000248234_2025-04-01_2025-06-01_ver_7d02da9e24f7(1).csv', delimiter=';')\n",
    "df_new = pd.read_csv('frequency_by_placements_1000248234_2025-05-01_2025-06-08_ver_e6d8d6f47b97.csv', delimiter=';')\n",
    "\n",
    "# Убедимся, что нужные колонки есть\n",
    "required_columns = ['Site Name', 'Placement Name', 'Frequency', 'Impressions']\n",
    "\n",
    "for col in required_columns:\n",
    "    if col not in df_prev.columns or col not in df_new.columns:\n",
    "        raise KeyError(f\"Колонка '{col}' не найдена в одном из файлов. Проверь названия колонок.\")\n",
    "\n",
    "# Обработка значений Frequency\n",
    "for df in [df_prev, df_new]:\n",
    "    df['Frequency'] = df['Frequency'].replace('100+', 100)\n",
    "    df['Frequency'] = pd.to_numeric(df['Frequency'], errors='coerce')\n",
    "\n",
    "# Оставляем только Placement Name, которые есть в обоих файлах\n",
    "common_placements = set(df_prev['Placement Name']) & set(df_new['Placement Name'])\n",
    "\n",
    "# Фильтруем файлы\n",
    "df_prev = df_prev[df_prev['Placement Name'].isin(common_placements)]\n",
    "df_new = df_new[df_new['Placement Name'].isin(common_placements)]\n",
    "\n",
    "# Сравнение строк\n",
    "issues = []\n",
    "\n",
    "for index, row in df_prev.iterrows():\n",
    "    site = row['Site Name']\n",
    "    placement = row['Placement Name']\n",
    "    frequency = row['Frequency']\n",
    "    prev_impressions = row['Impressions']\n",
    "\n",
    "    # Фильтр для новой недели\n",
    "    match = df_new[\n",
    "        (df_new['Site Name'] == site) &\n",
    "        (df_new['Placement Name'] == placement) &\n",
    "        (df_new['Frequency'] == frequency)\n",
    "    ]\n",
    "\n",
    "    if match.empty:\n",
    "        # Если такой строки нет — пропускаем, так как этот Placement Name мы уже проверили, что он есть\n",
    "        continue\n",
    "    else:\n",
    "        new_impressions = match['Impressions'].sum()\n",
    "        if new_impressions < prev_impressions:\n",
    "            issues.append(f\"МЕНЬШЕ ПОКАЗОВ: {site} | {placement} | Frequency {frequency} | Предыдущие показы: {prev_impressions} | Новые показы: {new_impressions}\")\n",
    "\n",
    "# Вывод результата в консоль\n",
    "if issues:\n",
    "    print(\"\\n⚠️ Найдены строки, где в новой неделе меньше показов, чем в прошлой:\\n\")\n",
    "    for issue in issues:\n",
    "        print(issue)\n",
    "else:\n",
    "    print(\"\\n✅ Все ок! Во всех строках количество показов в новой неделе не меньше, чем в прошлой.\")\n"
   ]
  },
  {
   "cell_type": "code",
   "execution_count": null,
   "id": "aa6f5c58-093d-4157-8ceb-77fecf21ba72",
   "metadata": {},
   "outputs": [],
   "source": []
  }
 ],
 "metadata": {
  "kernelspec": {
   "display_name": "Python 3 (ipykernel)",
   "language": "python",
   "name": "python3"
  },
  "language_info": {
   "codemirror_mode": {
    "name": "ipython",
    "version": 3
   },
   "file_extension": ".py",
   "mimetype": "text/x-python",
   "name": "python",
   "nbconvert_exporter": "python",
   "pygments_lexer": "ipython3",
   "version": "3.12.4"
  }
 },
 "nbformat": 4,
 "nbformat_minor": 5
}

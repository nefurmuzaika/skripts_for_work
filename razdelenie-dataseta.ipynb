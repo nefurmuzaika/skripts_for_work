{
 "cells": [
  {
   "cell_type": "markdown",
   "id": "587164d2-b95e-4edf-80ed-644ab27f5758",
   "metadata": {},
   "source": [
    "### Скрипт для разделения датасета на 2 части"
   ]
  },
  {
   "cell_type": "code",
   "execution_count": null,
   "id": "207b745a-7cf2-4678-92a3-d0d995316712",
   "metadata": {},
   "outputs": [],
   "source": [
    "import pandas as pd\n",
    "\n",
    "# Загружаем датасет (укажи свой файл)\n",
    "df = pd.read_csv('dataset.csv')\n",
    "\n",
    "# Считаем середину\n",
    "middle_index = len(df) // 2\n",
    "\n",
    "# Делим пополам\n",
    "first_half = df.iloc[:middle_index]\n",
    "second_half = df.iloc[middle_index:]\n",
    "\n",
    "# Сохраняем в два файла\n",
    "first_half.to_excel('dataset_part1.xlsx', index=False)\n",
    "second_half.to_excel('dataset_part2.xlsx', index=False)"
   ]
  },
  {
   "cell_type": "markdown",
   "id": "91b9166e-4f41-4a9a-816b-aa2ade7231eb",
   "metadata": {},
   "source": [
    "### Скрипт для разделения датасета на 3 части"
   ]
  },
  {
   "cell_type": "code",
   "execution_count": null,
   "id": "4b3a97f1-16e2-4dfe-a912-351649a92b19",
   "metadata": {},
   "outputs": [],
   "source": [
    "import pandas as pd\n",
    "\n",
    "# Загружаем датасет (укажи свой файл)\n",
    "df = pd.read_csv('dataset.csv')\n",
    "\n",
    "# Считаем длину для разделения\n",
    "total_rows = len(df)\n",
    "part_size = total_rows // 3\n",
    "\n",
    "# Делим на три части\n",
    "part1 = df.iloc[:part_size]\n",
    "part2 = df.iloc[part_size:part_size * 2]\n",
    "part3 = df.iloc[part_size * 2:]\n",
    "\n",
    "# Сохраняем в три файла\n",
    "part1.to_excel('dataset_part1.xlsx', index=False)\n",
    "part2.to_excel('dataset_part2.xlsx', index=False)\n",
    "part3.to_excel('dataset_part3.xlsx', index=False)"
   ]
  }
 ],
 "metadata": {
  "kernelspec": {
   "display_name": "Python 3 (ipykernel)",
   "language": "python",
   "name": "python3"
  },
  "language_info": {
   "codemirror_mode": {
    "name": "ipython",
    "version": 3
   },
   "file_extension": ".py",
   "mimetype": "text/x-python",
   "name": "python",
   "nbconvert_exporter": "python",
   "pygments_lexer": "ipython3",
   "version": "3.12.4"
  }
 },
 "nbformat": 4,
 "nbformat_minor": 5
}
